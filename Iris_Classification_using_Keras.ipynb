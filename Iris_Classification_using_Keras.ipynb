{
  "nbformat": 4,
  "nbformat_minor": 0,
  "metadata": {
    "colab": {
      "name": "Iris Classification using Keras.ipynb",
      "provenance": []
    },
    "kernelspec": {
      "name": "python3",
      "display_name": "Python 3"
    },
    "language_info": {
      "name": "python"
    }
  },
  "cells": [
    {
      "cell_type": "code",
      "metadata": {
        "id": "WPIV0_F-xMXu"
      },
      "source": [
        "import numpy as np\n",
        "from sklearn.datasets import load_iris"
      ],
      "execution_count": 1,
      "outputs": []
    },
    {
      "cell_type": "code",
      "metadata": {
        "id": "3v74rkWRxUgp"
      },
      "source": [
        "iris = load_iris()"
      ],
      "execution_count": 2,
      "outputs": []
    },
    {
      "cell_type": "code",
      "metadata": {
        "colab": {
          "base_uri": "https://localhost:8080/"
        },
        "id": "B9aJp5EnxW8x",
        "outputId": "6ee9afd7-9c7d-4170-99f4-9c9903ce57ee"
      },
      "source": [
        "type(iris)"
      ],
      "execution_count": 3,
      "outputs": [
        {
          "output_type": "execute_result",
          "data": {
            "text/plain": [
              "sklearn.utils.Bunch"
            ]
          },
          "metadata": {},
          "execution_count": 3
        }
      ]
    },
    {
      "cell_type": "code",
      "metadata": {
        "colab": {
          "base_uri": "https://localhost:8080/"
        },
        "id": "4xogF_erxYkn",
        "outputId": "0c9b39fe-9d85-487a-cc32-951f562cce58"
      },
      "source": [
        "print(iris.DESCR)"
      ],
      "execution_count": 4,
      "outputs": [
        {
          "output_type": "stream",
          "name": "stdout",
          "text": [
            ".. _iris_dataset:\n",
            "\n",
            "Iris plants dataset\n",
            "--------------------\n",
            "\n",
            "**Data Set Characteristics:**\n",
            "\n",
            "    :Number of Instances: 150 (50 in each of three classes)\n",
            "    :Number of Attributes: 4 numeric, predictive attributes and the class\n",
            "    :Attribute Information:\n",
            "        - sepal length in cm\n",
            "        - sepal width in cm\n",
            "        - petal length in cm\n",
            "        - petal width in cm\n",
            "        - class:\n",
            "                - Iris-Setosa\n",
            "                - Iris-Versicolour\n",
            "                - Iris-Virginica\n",
            "                \n",
            "    :Summary Statistics:\n",
            "\n",
            "    ============== ==== ==== ======= ===== ====================\n",
            "                    Min  Max   Mean    SD   Class Correlation\n",
            "    ============== ==== ==== ======= ===== ====================\n",
            "    sepal length:   4.3  7.9   5.84   0.83    0.7826\n",
            "    sepal width:    2.0  4.4   3.05   0.43   -0.4194\n",
            "    petal length:   1.0  6.9   3.76   1.76    0.9490  (high!)\n",
            "    petal width:    0.1  2.5   1.20   0.76    0.9565  (high!)\n",
            "    ============== ==== ==== ======= ===== ====================\n",
            "\n",
            "    :Missing Attribute Values: None\n",
            "    :Class Distribution: 33.3% for each of 3 classes.\n",
            "    :Creator: R.A. Fisher\n",
            "    :Donor: Michael Marshall (MARSHALL%PLU@io.arc.nasa.gov)\n",
            "    :Date: July, 1988\n",
            "\n",
            "The famous Iris database, first used by Sir R.A. Fisher. The dataset is taken\n",
            "from Fisher's paper. Note that it's the same as in R, but not as in the UCI\n",
            "Machine Learning Repository, which has two wrong data points.\n",
            "\n",
            "This is perhaps the best known database to be found in the\n",
            "pattern recognition literature.  Fisher's paper is a classic in the field and\n",
            "is referenced frequently to this day.  (See Duda & Hart, for example.)  The\n",
            "data set contains 3 classes of 50 instances each, where each class refers to a\n",
            "type of iris plant.  One class is linearly separable from the other 2; the\n",
            "latter are NOT linearly separable from each other.\n",
            "\n",
            ".. topic:: References\n",
            "\n",
            "   - Fisher, R.A. \"The use of multiple measurements in taxonomic problems\"\n",
            "     Annual Eugenics, 7, Part II, 179-188 (1936); also in \"Contributions to\n",
            "     Mathematical Statistics\" (John Wiley, NY, 1950).\n",
            "   - Duda, R.O., & Hart, P.E. (1973) Pattern Classification and Scene Analysis.\n",
            "     (Q327.D83) John Wiley & Sons.  ISBN 0-471-22361-1.  See page 218.\n",
            "   - Dasarathy, B.V. (1980) \"Nosing Around the Neighborhood: A New System\n",
            "     Structure and Classification Rule for Recognition in Partially Exposed\n",
            "     Environments\".  IEEE Transactions on Pattern Analysis and Machine\n",
            "     Intelligence, Vol. PAMI-2, No. 1, 67-71.\n",
            "   - Gates, G.W. (1972) \"The Reduced Nearest Neighbor Rule\".  IEEE Transactions\n",
            "     on Information Theory, May 1972, 431-433.\n",
            "   - See also: 1988 MLC Proceedings, 54-64.  Cheeseman et al\"s AUTOCLASS II\n",
            "     conceptual clustering system finds 3 classes in the data.\n",
            "   - Many, many more ...\n"
          ]
        }
      ]
    },
    {
      "cell_type": "code",
      "metadata": {
        "colab": {
          "base_uri": "https://localhost:8080/"
        },
        "id": "EAN2s6CfxtAe",
        "outputId": "e829bd23-4b44-40a3-9cbf-38696f58bfc8"
      },
      "source": [
        "iris.data[:5]"
      ],
      "execution_count": 5,
      "outputs": [
        {
          "output_type": "execute_result",
          "data": {
            "text/plain": [
              "array([[5.1, 3.5, 1.4, 0.2],\n",
              "       [4.9, 3. , 1.4, 0.2],\n",
              "       [4.7, 3.2, 1.3, 0.2],\n",
              "       [4.6, 3.1, 1.5, 0.2],\n",
              "       [5. , 3.6, 1.4, 0.2]])"
            ]
          },
          "metadata": {},
          "execution_count": 5
        }
      ]
    },
    {
      "cell_type": "code",
      "metadata": {
        "id": "WBxU9QM3x0da"
      },
      "source": [
        "X = iris.data"
      ],
      "execution_count": 6,
      "outputs": []
    },
    {
      "cell_type": "code",
      "metadata": {
        "colab": {
          "base_uri": "https://localhost:8080/"
        },
        "id": "c4n2RbDdyPlU",
        "outputId": "07473be8-4af4-4ea4-d45e-25092f62a0cb"
      },
      "source": [
        "X[:10]"
      ],
      "execution_count": 7,
      "outputs": [
        {
          "output_type": "execute_result",
          "data": {
            "text/plain": [
              "array([[5.1, 3.5, 1.4, 0.2],\n",
              "       [4.9, 3. , 1.4, 0.2],\n",
              "       [4.7, 3.2, 1.3, 0.2],\n",
              "       [4.6, 3.1, 1.5, 0.2],\n",
              "       [5. , 3.6, 1.4, 0.2],\n",
              "       [5.4, 3.9, 1.7, 0.4],\n",
              "       [4.6, 3.4, 1.4, 0.3],\n",
              "       [5. , 3.4, 1.5, 0.2],\n",
              "       [4.4, 2.9, 1.4, 0.2],\n",
              "       [4.9, 3.1, 1.5, 0.1]])"
            ]
          },
          "metadata": {},
          "execution_count": 7
        }
      ]
    },
    {
      "cell_type": "code",
      "metadata": {
        "id": "PvmaP9J6x9kD"
      },
      "source": [
        "y = iris.target"
      ],
      "execution_count": 8,
      "outputs": []
    },
    {
      "cell_type": "code",
      "metadata": {
        "colab": {
          "base_uri": "https://localhost:8080/"
        },
        "id": "7r52TGECx-G4",
        "outputId": "6fcce29e-2a4c-44e5-b5ba-d4f207e5784c"
      },
      "source": [
        "y"
      ],
      "execution_count": 9,
      "outputs": [
        {
          "output_type": "execute_result",
          "data": {
            "text/plain": [
              "array([0, 0, 0, 0, 0, 0, 0, 0, 0, 0, 0, 0, 0, 0, 0, 0, 0, 0, 0, 0, 0, 0,\n",
              "       0, 0, 0, 0, 0, 0, 0, 0, 0, 0, 0, 0, 0, 0, 0, 0, 0, 0, 0, 0, 0, 0,\n",
              "       0, 0, 0, 0, 0, 0, 1, 1, 1, 1, 1, 1, 1, 1, 1, 1, 1, 1, 1, 1, 1, 1,\n",
              "       1, 1, 1, 1, 1, 1, 1, 1, 1, 1, 1, 1, 1, 1, 1, 1, 1, 1, 1, 1, 1, 1,\n",
              "       1, 1, 1, 1, 1, 1, 1, 1, 1, 1, 1, 1, 2, 2, 2, 2, 2, 2, 2, 2, 2, 2,\n",
              "       2, 2, 2, 2, 2, 2, 2, 2, 2, 2, 2, 2, 2, 2, 2, 2, 2, 2, 2, 2, 2, 2,\n",
              "       2, 2, 2, 2, 2, 2, 2, 2, 2, 2, 2, 2, 2, 2, 2, 2, 2, 2])"
            ]
          },
          "metadata": {},
          "execution_count": 9
        }
      ]
    },
    {
      "cell_type": "code",
      "metadata": {
        "colab": {
          "base_uri": "https://localhost:8080/"
        },
        "id": "yez8R81dyDg6",
        "outputId": "f5a33d26-ddd8-40ce-9082-fee1385e99be"
      },
      "source": [
        "# Performing one hot encoding on categorical targets\n",
        "from tensorflow.keras.utils import to_categorical\n",
        "\n",
        "y = to_categorical(y)\n",
        "y.shape"
      ],
      "execution_count": 10,
      "outputs": [
        {
          "output_type": "execute_result",
          "data": {
            "text/plain": [
              "(150, 3)"
            ]
          },
          "metadata": {},
          "execution_count": 10
        }
      ]
    },
    {
      "cell_type": "code",
      "metadata": {
        "colab": {
          "base_uri": "https://localhost:8080/"
        },
        "id": "4Rh-7gHNycOx",
        "outputId": "af623b6b-71b9-4d6b-a7bf-78837b9d91fc"
      },
      "source": [
        "y[:15]"
      ],
      "execution_count": 11,
      "outputs": [
        {
          "output_type": "execute_result",
          "data": {
            "text/plain": [
              "array([[1., 0., 0.],\n",
              "       [1., 0., 0.],\n",
              "       [1., 0., 0.],\n",
              "       [1., 0., 0.],\n",
              "       [1., 0., 0.],\n",
              "       [1., 0., 0.],\n",
              "       [1., 0., 0.],\n",
              "       [1., 0., 0.],\n",
              "       [1., 0., 0.],\n",
              "       [1., 0., 0.],\n",
              "       [1., 0., 0.],\n",
              "       [1., 0., 0.],\n",
              "       [1., 0., 0.],\n",
              "       [1., 0., 0.],\n",
              "       [1., 0., 0.]], dtype=float32)"
            ]
          },
          "metadata": {},
          "execution_count": 11
        }
      ]
    },
    {
      "cell_type": "code",
      "metadata": {
        "id": "6tfdqU91y-iV"
      },
      "source": [
        "from sklearn.model_selection import train_test_split\n",
        "\n",
        "X_train, X_test, y_train, y_test = train_test_split(X, y, test_size = 0.3, random_state = 42)"
      ],
      "execution_count": 12,
      "outputs": []
    },
    {
      "cell_type": "code",
      "metadata": {
        "id": "A6U_UfpuzaZd"
      },
      "source": [
        "# Scaling and standardizing data\n",
        "from sklearn.preprocessing import MinMaxScaler\n",
        "\n",
        "scaler_object = MinMaxScaler()\n",
        "# Scaling it only on the train features to prevent the model from learning about the test features\n",
        "scaler_object.fit(X_train)\n",
        "scaled_X_train = scaler_object.transform(X_train)\n",
        "scaled_X_test = scaler_object.transform(X_test)"
      ],
      "execution_count": 13,
      "outputs": []
    },
    {
      "cell_type": "code",
      "metadata": {
        "colab": {
          "base_uri": "https://localhost:8080/"
        },
        "id": "JOJNN8gC0jpP",
        "outputId": "eb966ca2-770c-414b-cdd8-d32cce8236d3"
      },
      "source": [
        "scaled_X_train[:15]"
      ],
      "execution_count": 14,
      "outputs": [
        {
          "output_type": "execute_result",
          "data": {
            "text/plain": [
              "array([[0.35294118, 0.18181818, 0.46428571, 0.375     ],\n",
              "       [0.58823529, 0.36363636, 0.71428571, 0.58333333],\n",
              "       [0.61764706, 0.5       , 0.78571429, 0.70833333],\n",
              "       [0.67647059, 0.45454545, 0.58928571, 0.54166667],\n",
              "       [0.85294118, 0.72727273, 0.89285714, 1.        ],\n",
              "       [0.41176471, 0.40909091, 0.55357143, 0.5       ],\n",
              "       [0.97058824, 0.45454545, 0.98214286, 0.83333333],\n",
              "       [0.38235294, 0.45454545, 0.60714286, 0.58333333],\n",
              "       [0.23529412, 0.68181818, 0.05357143, 0.04166667],\n",
              "       [1.        , 0.36363636, 1.        , 0.79166667],\n",
              "       [0.44117647, 0.31818182, 0.53571429, 0.375     ],\n",
              "       [0.26470588, 0.63636364, 0.05357143, 0.04166667],\n",
              "       [0.20588235, 0.68181818, 0.03571429, 0.08333333],\n",
              "       [0.23529412, 0.81818182, 0.14285714, 0.125     ],\n",
              "       [0.20588235, 0.        , 0.42857143, 0.375     ]])"
            ]
          },
          "metadata": {},
          "execution_count": 14
        }
      ]
    },
    {
      "cell_type": "code",
      "metadata": {
        "colab": {
          "base_uri": "https://localhost:8080/"
        },
        "id": "r-MqdZQx0lUr",
        "outputId": "bec3f31e-5d6f-44e0-e8c9-ce35a0c3b2c0"
      },
      "source": [
        "scaled_X_test[:15]"
      ],
      "execution_count": 15,
      "outputs": [
        {
          "output_type": "execute_result",
          "data": {
            "text/plain": [
              "array([[0.52941176, 0.36363636, 0.64285714, 0.45833333],\n",
              "       [0.41176471, 0.81818182, 0.10714286, 0.08333333],\n",
              "       [1.        , 0.27272727, 1.03571429, 0.91666667],\n",
              "       [0.5       , 0.40909091, 0.60714286, 0.58333333],\n",
              "       [0.73529412, 0.36363636, 0.66071429, 0.54166667],\n",
              "       [0.32352941, 0.63636364, 0.07142857, 0.125     ],\n",
              "       [0.38235294, 0.40909091, 0.44642857, 0.5       ],\n",
              "       [0.76470588, 0.5       , 0.71428571, 0.91666667],\n",
              "       [0.55882353, 0.09090909, 0.60714286, 0.58333333],\n",
              "       [0.44117647, 0.31818182, 0.5       , 0.45833333],\n",
              "       [0.64705882, 0.54545455, 0.71428571, 0.79166667],\n",
              "       [0.14705882, 0.45454545, 0.05357143, 0.        ],\n",
              "       [0.35294118, 0.68181818, 0.03571429, 0.04166667],\n",
              "       [0.17647059, 0.5       , 0.07142857, 0.        ],\n",
              "       [0.23529412, 0.81818182, 0.07142857, 0.08333333]])"
            ]
          },
          "metadata": {},
          "execution_count": 15
        }
      ]
    },
    {
      "cell_type": "code",
      "metadata": {
        "id": "T4oOHdSz1z6Y"
      },
      "source": [
        "# Building the network with Keras\n",
        "from keras.models import Sequential\n",
        "from keras.layers import Dense\n",
        "\n",
        "model = Sequential()\n",
        "model.add(Dense(8, input_dim = 4, activation = 'relu'))\n",
        "model.add(Dense(8, input_dim = 4, activation = 'relu'))\n",
        "# Use of softmax to get probablity of 3 classes in the output layer\n",
        "model.add(Dense(3, activation = 'softmax')) \n",
        "model.compile(loss = 'categorical_crossentropy', optimizer = 'adam', metrics = ['accuracy'])"
      ],
      "execution_count": 16,
      "outputs": []
    },
    {
      "cell_type": "code",
      "metadata": {
        "colab": {
          "base_uri": "https://localhost:8080/"
        },
        "id": "KUbPQeyA4JAg",
        "outputId": "c8fb1e5f-dd55-404c-dfdb-69966515da7c"
      },
      "source": [
        "model.summary()"
      ],
      "execution_count": 17,
      "outputs": [
        {
          "output_type": "stream",
          "name": "stdout",
          "text": [
            "Model: \"sequential\"\n",
            "_________________________________________________________________\n",
            " Layer (type)                Output Shape              Param #   \n",
            "=================================================================\n",
            " dense (Dense)               (None, 8)                 40        \n",
            "                                                                 \n",
            " dense_1 (Dense)             (None, 8)                 72        \n",
            "                                                                 \n",
            " dense_2 (Dense)             (None, 3)                 27        \n",
            "                                                                 \n",
            "=================================================================\n",
            "Total params: 139\n",
            "Trainable params: 139\n",
            "Non-trainable params: 0\n",
            "_________________________________________________________________\n"
          ]
        }
      ]
    },
    {
      "cell_type": "code",
      "metadata": {
        "colab": {
          "base_uri": "https://localhost:8080/"
        },
        "id": "B8Eapf8I4Liz",
        "outputId": "bf61734a-f92f-48c2-8869-959c9b915eb0"
      },
      "source": [
        "# Fit the model. We need note scale y_train since the output is already in 0's and 1's.\n",
        "model.fit(scaled_X_train, y_train, epochs = 150, verbose = 2)"
      ],
      "execution_count": 18,
      "outputs": [
        {
          "output_type": "stream",
          "name": "stdout",
          "text": [
            "Epoch 1/150\n",
            "4/4 - 0s - loss: 1.2012 - accuracy: 0.0000e+00 - 494ms/epoch - 123ms/step\n",
            "Epoch 2/150\n",
            "4/4 - 0s - loss: 1.1875 - accuracy: 0.0000e+00 - 8ms/epoch - 2ms/step\n",
            "Epoch 3/150\n",
            "4/4 - 0s - loss: 1.1758 - accuracy: 0.0000e+00 - 11ms/epoch - 3ms/step\n",
            "Epoch 4/150\n",
            "4/4 - 0s - loss: 1.1647 - accuracy: 0.0000e+00 - 10ms/epoch - 3ms/step\n",
            "Epoch 5/150\n",
            "4/4 - 0s - loss: 1.1538 - accuracy: 0.0476 - 9ms/epoch - 2ms/step\n",
            "Epoch 6/150\n",
            "4/4 - 0s - loss: 1.1437 - accuracy: 0.1238 - 9ms/epoch - 2ms/step\n",
            "Epoch 7/150\n",
            "4/4 - 0s - loss: 1.1342 - accuracy: 0.2190 - 16ms/epoch - 4ms/step\n",
            "Epoch 8/150\n",
            "4/4 - 0s - loss: 1.1253 - accuracy: 0.2667 - 8ms/epoch - 2ms/step\n",
            "Epoch 9/150\n",
            "4/4 - 0s - loss: 1.1167 - accuracy: 0.2857 - 8ms/epoch - 2ms/step\n",
            "Epoch 10/150\n",
            "4/4 - 0s - loss: 1.1091 - accuracy: 0.3143 - 8ms/epoch - 2ms/step\n",
            "Epoch 11/150\n",
            "4/4 - 0s - loss: 1.1024 - accuracy: 0.3333 - 7ms/epoch - 2ms/step\n",
            "Epoch 12/150\n",
            "4/4 - 0s - loss: 1.0955 - accuracy: 0.3524 - 8ms/epoch - 2ms/step\n",
            "Epoch 13/150\n",
            "4/4 - 0s - loss: 1.0895 - accuracy: 0.3619 - 7ms/epoch - 2ms/step\n",
            "Epoch 14/150\n",
            "4/4 - 0s - loss: 1.0836 - accuracy: 0.3524 - 7ms/epoch - 2ms/step\n",
            "Epoch 15/150\n",
            "4/4 - 0s - loss: 1.0776 - accuracy: 0.3619 - 8ms/epoch - 2ms/step\n",
            "Epoch 16/150\n",
            "4/4 - 0s - loss: 1.0718 - accuracy: 0.3619 - 7ms/epoch - 2ms/step\n",
            "Epoch 17/150\n",
            "4/4 - 0s - loss: 1.0661 - accuracy: 0.3619 - 9ms/epoch - 2ms/step\n",
            "Epoch 18/150\n",
            "4/4 - 0s - loss: 1.0605 - accuracy: 0.3619 - 7ms/epoch - 2ms/step\n",
            "Epoch 19/150\n",
            "4/4 - 0s - loss: 1.0551 - accuracy: 0.3619 - 14ms/epoch - 3ms/step\n",
            "Epoch 20/150\n",
            "4/4 - 0s - loss: 1.0494 - accuracy: 0.3524 - 6ms/epoch - 2ms/step\n",
            "Epoch 21/150\n",
            "4/4 - 0s - loss: 1.0441 - accuracy: 0.3524 - 24ms/epoch - 6ms/step\n",
            "Epoch 22/150\n",
            "4/4 - 0s - loss: 1.0384 - accuracy: 0.3524 - 9ms/epoch - 2ms/step\n",
            "Epoch 23/150\n",
            "4/4 - 0s - loss: 1.0330 - accuracy: 0.3524 - 11ms/epoch - 3ms/step\n",
            "Epoch 24/150\n",
            "4/4 - 0s - loss: 1.0275 - accuracy: 0.3524 - 24ms/epoch - 6ms/step\n",
            "Epoch 25/150\n",
            "4/4 - 0s - loss: 1.0221 - accuracy: 0.3524 - 7ms/epoch - 2ms/step\n",
            "Epoch 26/150\n",
            "4/4 - 0s - loss: 1.0164 - accuracy: 0.3524 - 7ms/epoch - 2ms/step\n",
            "Epoch 27/150\n",
            "4/4 - 0s - loss: 1.0109 - accuracy: 0.3524 - 9ms/epoch - 2ms/step\n",
            "Epoch 28/150\n",
            "4/4 - 0s - loss: 1.0050 - accuracy: 0.3524 - 11ms/epoch - 3ms/step\n",
            "Epoch 29/150\n",
            "4/4 - 0s - loss: 0.9992 - accuracy: 0.3524 - 30ms/epoch - 7ms/step\n",
            "Epoch 30/150\n",
            "4/4 - 0s - loss: 0.9936 - accuracy: 0.3524 - 11ms/epoch - 3ms/step\n",
            "Epoch 31/150\n",
            "4/4 - 0s - loss: 0.9878 - accuracy: 0.3524 - 13ms/epoch - 3ms/step\n",
            "Epoch 32/150\n",
            "4/4 - 0s - loss: 0.9821 - accuracy: 0.3524 - 18ms/epoch - 5ms/step\n",
            "Epoch 33/150\n",
            "4/4 - 0s - loss: 0.9763 - accuracy: 0.3524 - 13ms/epoch - 3ms/step\n",
            "Epoch 34/150\n",
            "4/4 - 0s - loss: 0.9705 - accuracy: 0.3524 - 14ms/epoch - 4ms/step\n",
            "Epoch 35/150\n",
            "4/4 - 0s - loss: 0.9646 - accuracy: 0.3524 - 11ms/epoch - 3ms/step\n",
            "Epoch 36/150\n",
            "4/4 - 0s - loss: 0.9586 - accuracy: 0.3524 - 13ms/epoch - 3ms/step\n",
            "Epoch 37/150\n",
            "4/4 - 0s - loss: 0.9527 - accuracy: 0.3524 - 10ms/epoch - 3ms/step\n",
            "Epoch 38/150\n",
            "4/4 - 0s - loss: 0.9468 - accuracy: 0.3524 - 8ms/epoch - 2ms/step\n",
            "Epoch 39/150\n",
            "4/4 - 0s - loss: 0.9412 - accuracy: 0.3524 - 9ms/epoch - 2ms/step\n",
            "Epoch 40/150\n",
            "4/4 - 0s - loss: 0.9355 - accuracy: 0.4190 - 11ms/epoch - 3ms/step\n",
            "Epoch 41/150\n",
            "4/4 - 0s - loss: 0.9300 - accuracy: 0.4190 - 15ms/epoch - 4ms/step\n",
            "Epoch 42/150\n",
            "4/4 - 0s - loss: 0.9247 - accuracy: 0.4381 - 13ms/epoch - 3ms/step\n",
            "Epoch 43/150\n",
            "4/4 - 0s - loss: 0.9193 - accuracy: 0.4762 - 11ms/epoch - 3ms/step\n",
            "Epoch 44/150\n",
            "4/4 - 0s - loss: 0.9139 - accuracy: 0.4952 - 11ms/epoch - 3ms/step\n",
            "Epoch 45/150\n",
            "4/4 - 0s - loss: 0.9087 - accuracy: 0.5048 - 20ms/epoch - 5ms/step\n",
            "Epoch 46/150\n",
            "4/4 - 0s - loss: 0.9034 - accuracy: 0.5143 - 14ms/epoch - 4ms/step\n",
            "Epoch 47/150\n",
            "4/4 - 0s - loss: 0.8982 - accuracy: 0.5333 - 9ms/epoch - 2ms/step\n",
            "Epoch 48/150\n",
            "4/4 - 0s - loss: 0.8928 - accuracy: 0.5429 - 13ms/epoch - 3ms/step\n",
            "Epoch 49/150\n",
            "4/4 - 0s - loss: 0.8853 - accuracy: 0.5714 - 13ms/epoch - 3ms/step\n",
            "Epoch 50/150\n",
            "4/4 - 0s - loss: 0.8758 - accuracy: 0.6000 - 11ms/epoch - 3ms/step\n",
            "Epoch 51/150\n",
            "4/4 - 0s - loss: 0.8660 - accuracy: 0.6190 - 12ms/epoch - 3ms/step\n",
            "Epoch 52/150\n",
            "4/4 - 0s - loss: 0.8554 - accuracy: 0.6286 - 13ms/epoch - 3ms/step\n",
            "Epoch 53/150\n",
            "4/4 - 0s - loss: 0.8445 - accuracy: 0.6286 - 12ms/epoch - 3ms/step\n",
            "Epoch 54/150\n",
            "4/4 - 0s - loss: 0.8351 - accuracy: 0.6476 - 13ms/epoch - 3ms/step\n",
            "Epoch 55/150\n",
            "4/4 - 0s - loss: 0.8267 - accuracy: 0.6476 - 12ms/epoch - 3ms/step\n",
            "Epoch 56/150\n",
            "4/4 - 0s - loss: 0.8170 - accuracy: 0.6476 - 12ms/epoch - 3ms/step\n",
            "Epoch 57/150\n",
            "4/4 - 0s - loss: 0.8078 - accuracy: 0.6476 - 8ms/epoch - 2ms/step\n",
            "Epoch 58/150\n",
            "4/4 - 0s - loss: 0.7984 - accuracy: 0.6476 - 7ms/epoch - 2ms/step\n",
            "Epoch 59/150\n",
            "4/4 - 0s - loss: 0.7895 - accuracy: 0.6476 - 11ms/epoch - 3ms/step\n",
            "Epoch 60/150\n",
            "4/4 - 0s - loss: 0.7803 - accuracy: 0.6476 - 14ms/epoch - 3ms/step\n",
            "Epoch 61/150\n",
            "4/4 - 0s - loss: 0.7711 - accuracy: 0.6476 - 14ms/epoch - 3ms/step\n",
            "Epoch 62/150\n",
            "4/4 - 0s - loss: 0.7621 - accuracy: 0.6571 - 12ms/epoch - 3ms/step\n",
            "Epoch 63/150\n",
            "4/4 - 0s - loss: 0.7530 - accuracy: 0.6571 - 16ms/epoch - 4ms/step\n",
            "Epoch 64/150\n",
            "4/4 - 0s - loss: 0.7436 - accuracy: 0.6667 - 7ms/epoch - 2ms/step\n",
            "Epoch 65/150\n",
            "4/4 - 0s - loss: 0.7351 - accuracy: 0.6667 - 10ms/epoch - 2ms/step\n",
            "Epoch 66/150\n",
            "4/4 - 0s - loss: 0.7257 - accuracy: 0.6762 - 16ms/epoch - 4ms/step\n",
            "Epoch 67/150\n",
            "4/4 - 0s - loss: 0.7168 - accuracy: 0.6762 - 9ms/epoch - 2ms/step\n",
            "Epoch 68/150\n",
            "4/4 - 0s - loss: 0.7080 - accuracy: 0.6762 - 8ms/epoch - 2ms/step\n",
            "Epoch 69/150\n",
            "4/4 - 0s - loss: 0.6989 - accuracy: 0.6762 - 11ms/epoch - 3ms/step\n",
            "Epoch 70/150\n",
            "4/4 - 0s - loss: 0.6902 - accuracy: 0.6857 - 9ms/epoch - 2ms/step\n",
            "Epoch 71/150\n",
            "4/4 - 0s - loss: 0.6814 - accuracy: 0.6857 - 13ms/epoch - 3ms/step\n",
            "Epoch 72/150\n",
            "4/4 - 0s - loss: 0.6727 - accuracy: 0.6857 - 11ms/epoch - 3ms/step\n",
            "Epoch 73/150\n",
            "4/4 - 0s - loss: 0.6648 - accuracy: 0.6857 - 13ms/epoch - 3ms/step\n",
            "Epoch 74/150\n",
            "4/4 - 0s - loss: 0.6562 - accuracy: 0.6857 - 9ms/epoch - 2ms/step\n",
            "Epoch 75/150\n",
            "4/4 - 0s - loss: 0.6481 - accuracy: 0.6952 - 7ms/epoch - 2ms/step\n",
            "Epoch 76/150\n",
            "4/4 - 0s - loss: 0.6403 - accuracy: 0.6952 - 11ms/epoch - 3ms/step\n",
            "Epoch 77/150\n",
            "4/4 - 0s - loss: 0.6324 - accuracy: 0.6952 - 19ms/epoch - 5ms/step\n",
            "Epoch 78/150\n",
            "4/4 - 0s - loss: 0.6249 - accuracy: 0.6952 - 16ms/epoch - 4ms/step\n",
            "Epoch 79/150\n",
            "4/4 - 0s - loss: 0.6177 - accuracy: 0.6952 - 11ms/epoch - 3ms/step\n",
            "Epoch 80/150\n",
            "4/4 - 0s - loss: 0.6109 - accuracy: 0.6952 - 11ms/epoch - 3ms/step\n",
            "Epoch 81/150\n",
            "4/4 - 0s - loss: 0.6035 - accuracy: 0.6952 - 16ms/epoch - 4ms/step\n",
            "Epoch 82/150\n",
            "4/4 - 0s - loss: 0.5965 - accuracy: 0.7048 - 9ms/epoch - 2ms/step\n",
            "Epoch 83/150\n",
            "4/4 - 0s - loss: 0.5898 - accuracy: 0.7048 - 11ms/epoch - 3ms/step\n",
            "Epoch 84/150\n",
            "4/4 - 0s - loss: 0.5833 - accuracy: 0.7143 - 14ms/epoch - 4ms/step\n",
            "Epoch 85/150\n",
            "4/4 - 0s - loss: 0.5768 - accuracy: 0.7143 - 14ms/epoch - 4ms/step\n",
            "Epoch 86/150\n",
            "4/4 - 0s - loss: 0.5706 - accuracy: 0.7238 - 8ms/epoch - 2ms/step\n",
            "Epoch 87/150\n",
            "4/4 - 0s - loss: 0.5644 - accuracy: 0.7333 - 13ms/epoch - 3ms/step\n",
            "Epoch 88/150\n",
            "4/4 - 0s - loss: 0.5583 - accuracy: 0.7429 - 7ms/epoch - 2ms/step\n",
            "Epoch 89/150\n",
            "4/4 - 0s - loss: 0.5527 - accuracy: 0.7619 - 11ms/epoch - 3ms/step\n",
            "Epoch 90/150\n",
            "4/4 - 0s - loss: 0.5468 - accuracy: 0.7619 - 12ms/epoch - 3ms/step\n",
            "Epoch 91/150\n",
            "4/4 - 0s - loss: 0.5416 - accuracy: 0.7810 - 22ms/epoch - 5ms/step\n",
            "Epoch 92/150\n",
            "4/4 - 0s - loss: 0.5359 - accuracy: 0.8000 - 15ms/epoch - 4ms/step\n",
            "Epoch 93/150\n",
            "4/4 - 0s - loss: 0.5305 - accuracy: 0.7905 - 12ms/epoch - 3ms/step\n",
            "Epoch 94/150\n",
            "4/4 - 0s - loss: 0.5253 - accuracy: 0.7810 - 20ms/epoch - 5ms/step\n",
            "Epoch 95/150\n",
            "4/4 - 0s - loss: 0.5199 - accuracy: 0.7905 - 22ms/epoch - 5ms/step\n",
            "Epoch 96/150\n",
            "4/4 - 0s - loss: 0.5150 - accuracy: 0.8000 - 9ms/epoch - 2ms/step\n",
            "Epoch 97/150\n",
            "4/4 - 0s - loss: 0.5102 - accuracy: 0.8190 - 12ms/epoch - 3ms/step\n",
            "Epoch 98/150\n",
            "4/4 - 0s - loss: 0.5053 - accuracy: 0.8286 - 12ms/epoch - 3ms/step\n",
            "Epoch 99/150\n",
            "4/4 - 0s - loss: 0.5007 - accuracy: 0.8381 - 13ms/epoch - 3ms/step\n",
            "Epoch 100/150\n",
            "4/4 - 0s - loss: 0.4961 - accuracy: 0.8286 - 15ms/epoch - 4ms/step\n",
            "Epoch 101/150\n",
            "4/4 - 0s - loss: 0.4917 - accuracy: 0.8190 - 15ms/epoch - 4ms/step\n",
            "Epoch 102/150\n",
            "4/4 - 0s - loss: 0.4875 - accuracy: 0.8286 - 14ms/epoch - 3ms/step\n",
            "Epoch 103/150\n",
            "4/4 - 0s - loss: 0.4832 - accuracy: 0.8286 - 9ms/epoch - 2ms/step\n",
            "Epoch 104/150\n",
            "4/4 - 0s - loss: 0.4790 - accuracy: 0.8571 - 8ms/epoch - 2ms/step\n",
            "Epoch 105/150\n",
            "4/4 - 0s - loss: 0.4747 - accuracy: 0.8571 - 14ms/epoch - 4ms/step\n",
            "Epoch 106/150\n",
            "4/4 - 0s - loss: 0.4706 - accuracy: 0.8667 - 12ms/epoch - 3ms/step\n",
            "Epoch 107/150\n",
            "4/4 - 0s - loss: 0.4666 - accuracy: 0.8667 - 9ms/epoch - 2ms/step\n",
            "Epoch 108/150\n",
            "4/4 - 0s - loss: 0.4627 - accuracy: 0.8762 - 15ms/epoch - 4ms/step\n",
            "Epoch 109/150\n",
            "4/4 - 0s - loss: 0.4587 - accuracy: 0.8667 - 16ms/epoch - 4ms/step\n",
            "Epoch 110/150\n",
            "4/4 - 0s - loss: 0.4551 - accuracy: 0.8667 - 11ms/epoch - 3ms/step\n",
            "Epoch 111/150\n",
            "4/4 - 0s - loss: 0.4514 - accuracy: 0.8667 - 23ms/epoch - 6ms/step\n",
            "Epoch 112/150\n",
            "4/4 - 0s - loss: 0.4478 - accuracy: 0.8667 - 10ms/epoch - 3ms/step\n",
            "Epoch 113/150\n",
            "4/4 - 0s - loss: 0.4448 - accuracy: 0.8571 - 9ms/epoch - 2ms/step\n",
            "Epoch 114/150\n",
            "4/4 - 0s - loss: 0.4413 - accuracy: 0.8667 - 7ms/epoch - 2ms/step\n",
            "Epoch 115/150\n",
            "4/4 - 0s - loss: 0.4376 - accuracy: 0.8667 - 11ms/epoch - 3ms/step\n",
            "Epoch 116/150\n",
            "4/4 - 0s - loss: 0.4335 - accuracy: 0.8857 - 8ms/epoch - 2ms/step\n",
            "Epoch 117/150\n",
            "4/4 - 0s - loss: 0.4301 - accuracy: 0.8952 - 11ms/epoch - 3ms/step\n",
            "Epoch 118/150\n",
            "4/4 - 0s - loss: 0.4267 - accuracy: 0.8952 - 10ms/epoch - 2ms/step\n",
            "Epoch 119/150\n",
            "4/4 - 0s - loss: 0.4233 - accuracy: 0.8952 - 7ms/epoch - 2ms/step\n",
            "Epoch 120/150\n",
            "4/4 - 0s - loss: 0.4200 - accuracy: 0.9143 - 12ms/epoch - 3ms/step\n",
            "Epoch 121/150\n",
            "4/4 - 0s - loss: 0.4167 - accuracy: 0.9143 - 18ms/epoch - 5ms/step\n",
            "Epoch 122/150\n",
            "4/4 - 0s - loss: 0.4134 - accuracy: 0.9238 - 8ms/epoch - 2ms/step\n",
            "Epoch 123/150\n",
            "4/4 - 0s - loss: 0.4103 - accuracy: 0.9143 - 10ms/epoch - 2ms/step\n",
            "Epoch 124/150\n",
            "4/4 - 0s - loss: 0.4075 - accuracy: 0.9048 - 8ms/epoch - 2ms/step\n",
            "Epoch 125/150\n",
            "4/4 - 0s - loss: 0.4048 - accuracy: 0.8952 - 12ms/epoch - 3ms/step\n",
            "Epoch 126/150\n",
            "4/4 - 0s - loss: 0.4023 - accuracy: 0.8857 - 10ms/epoch - 2ms/step\n",
            "Epoch 127/150\n",
            "4/4 - 0s - loss: 0.3992 - accuracy: 0.8952 - 11ms/epoch - 3ms/step\n",
            "Epoch 128/150\n",
            "4/4 - 0s - loss: 0.3952 - accuracy: 0.9143 - 11ms/epoch - 3ms/step\n",
            "Epoch 129/150\n",
            "4/4 - 0s - loss: 0.3920 - accuracy: 0.9238 - 12ms/epoch - 3ms/step\n",
            "Epoch 130/150\n",
            "4/4 - 0s - loss: 0.3883 - accuracy: 0.9333 - 7ms/epoch - 2ms/step\n",
            "Epoch 131/150\n",
            "4/4 - 0s - loss: 0.3851 - accuracy: 0.9333 - 17ms/epoch - 4ms/step\n",
            "Epoch 132/150\n",
            "4/4 - 0s - loss: 0.3825 - accuracy: 0.9429 - 13ms/epoch - 3ms/step\n",
            "Epoch 133/150\n",
            "4/4 - 0s - loss: 0.3797 - accuracy: 0.9524 - 17ms/epoch - 4ms/step\n",
            "Epoch 134/150\n",
            "4/4 - 0s - loss: 0.3763 - accuracy: 0.9524 - 17ms/epoch - 4ms/step\n",
            "Epoch 135/150\n",
            "4/4 - 0s - loss: 0.3729 - accuracy: 0.9524 - 12ms/epoch - 3ms/step\n",
            "Epoch 136/150\n",
            "4/4 - 0s - loss: 0.3699 - accuracy: 0.9429 - 12ms/epoch - 3ms/step\n",
            "Epoch 137/150\n",
            "4/4 - 0s - loss: 0.3666 - accuracy: 0.9333 - 13ms/epoch - 3ms/step\n",
            "Epoch 138/150\n",
            "4/4 - 0s - loss: 0.3637 - accuracy: 0.9429 - 11ms/epoch - 3ms/step\n",
            "Epoch 139/150\n",
            "4/4 - 0s - loss: 0.3607 - accuracy: 0.9333 - 14ms/epoch - 3ms/step\n",
            "Epoch 140/150\n",
            "4/4 - 0s - loss: 0.3577 - accuracy: 0.9429 - 12ms/epoch - 3ms/step\n",
            "Epoch 141/150\n",
            "4/4 - 0s - loss: 0.3547 - accuracy: 0.9429 - 11ms/epoch - 3ms/step\n",
            "Epoch 142/150\n",
            "4/4 - 0s - loss: 0.3515 - accuracy: 0.9524 - 14ms/epoch - 3ms/step\n",
            "Epoch 143/150\n",
            "4/4 - 0s - loss: 0.3485 - accuracy: 0.9524 - 13ms/epoch - 3ms/step\n",
            "Epoch 144/150\n",
            "4/4 - 0s - loss: 0.3457 - accuracy: 0.9524 - 11ms/epoch - 3ms/step\n",
            "Epoch 145/150\n",
            "4/4 - 0s - loss: 0.3429 - accuracy: 0.9524 - 18ms/epoch - 4ms/step\n",
            "Epoch 146/150\n",
            "4/4 - 0s - loss: 0.3401 - accuracy: 0.9524 - 13ms/epoch - 3ms/step\n",
            "Epoch 147/150\n",
            "4/4 - 0s - loss: 0.3372 - accuracy: 0.9524 - 11ms/epoch - 3ms/step\n",
            "Epoch 148/150\n",
            "4/4 - 0s - loss: 0.3344 - accuracy: 0.9524 - 15ms/epoch - 4ms/step\n",
            "Epoch 149/150\n",
            "4/4 - 0s - loss: 0.3314 - accuracy: 0.9524 - 13ms/epoch - 3ms/step\n",
            "Epoch 150/150\n",
            "4/4 - 0s - loss: 0.3283 - accuracy: 0.9524 - 8ms/epoch - 2ms/step\n"
          ]
        },
        {
          "output_type": "execute_result",
          "data": {
            "text/plain": [
              "<keras.callbacks.History at 0x7f0a731e5050>"
            ]
          },
          "metadata": {},
          "execution_count": 18
        }
      ]
    },
    {
      "cell_type": "code",
      "metadata": {
        "colab": {
          "base_uri": "https://localhost:8080/"
        },
        "id": "shdUAw6-5j96",
        "outputId": "5b95e5f9-7ac8-40b6-a0d7-2689ecc3b205"
      },
      "source": [
        "np.argmax(model.predict(scaled_X_test), axis=-1)"
      ],
      "execution_count": 19,
      "outputs": [
        {
          "output_type": "execute_result",
          "data": {
            "text/plain": [
              "array([1, 0, 2, 1, 2, 0, 1, 2, 2, 1, 2, 0, 0, 0, 0, 1, 2, 1, 1, 2, 0, 2,\n",
              "       0, 2, 2, 2, 2, 2, 0, 0, 0, 0, 1, 0, 0, 2, 1, 0, 0, 0, 2, 1, 1, 0,\n",
              "       0])"
            ]
          },
          "metadata": {},
          "execution_count": 19
        }
      ]
    },
    {
      "cell_type": "code",
      "metadata": {
        "colab": {
          "base_uri": "https://localhost:8080/"
        },
        "id": "1CJM8KDiJ6Ao",
        "outputId": "79ccb934-7fb3-4531-98ce-c84b9ee42e11"
      },
      "source": [
        "y_test"
      ],
      "execution_count": 20,
      "outputs": [
        {
          "output_type": "execute_result",
          "data": {
            "text/plain": [
              "array([[0., 1., 0.],\n",
              "       [1., 0., 0.],\n",
              "       [0., 0., 1.],\n",
              "       [0., 1., 0.],\n",
              "       [0., 1., 0.],\n",
              "       [1., 0., 0.],\n",
              "       [0., 1., 0.],\n",
              "       [0., 0., 1.],\n",
              "       [0., 1., 0.],\n",
              "       [0., 1., 0.],\n",
              "       [0., 0., 1.],\n",
              "       [1., 0., 0.],\n",
              "       [1., 0., 0.],\n",
              "       [1., 0., 0.],\n",
              "       [1., 0., 0.],\n",
              "       [0., 1., 0.],\n",
              "       [0., 0., 1.],\n",
              "       [0., 1., 0.],\n",
              "       [0., 1., 0.],\n",
              "       [0., 0., 1.],\n",
              "       [1., 0., 0.],\n",
              "       [0., 0., 1.],\n",
              "       [1., 0., 0.],\n",
              "       [0., 0., 1.],\n",
              "       [0., 0., 1.],\n",
              "       [0., 0., 1.],\n",
              "       [0., 0., 1.],\n",
              "       [0., 0., 1.],\n",
              "       [1., 0., 0.],\n",
              "       [1., 0., 0.],\n",
              "       [1., 0., 0.],\n",
              "       [1., 0., 0.],\n",
              "       [0., 1., 0.],\n",
              "       [1., 0., 0.],\n",
              "       [1., 0., 0.],\n",
              "       [0., 0., 1.],\n",
              "       [0., 1., 0.],\n",
              "       [1., 0., 0.],\n",
              "       [1., 0., 0.],\n",
              "       [1., 0., 0.],\n",
              "       [0., 0., 1.],\n",
              "       [0., 1., 0.],\n",
              "       [0., 1., 0.],\n",
              "       [1., 0., 0.],\n",
              "       [1., 0., 0.]], dtype=float32)"
            ]
          },
          "metadata": {},
          "execution_count": 20
        }
      ]
    },
    {
      "cell_type": "code",
      "metadata": {
        "id": "f3A84LkHKVyx"
      },
      "source": [
        "# Converting the y_test into argmax form just like the predictions\n",
        "predictions = np.argmax(model.predict(scaled_X_test), axis=-1)"
      ],
      "execution_count": 21,
      "outputs": []
    },
    {
      "cell_type": "code",
      "metadata": {
        "colab": {
          "base_uri": "https://localhost:8080/"
        },
        "id": "NBV3WuUaKxE3",
        "outputId": "d3a9db6e-a8e8-4cd7-bfcf-2623a494a455"
      },
      "source": [
        "y_test.argmax(axis = 1)"
      ],
      "execution_count": 22,
      "outputs": [
        {
          "output_type": "execute_result",
          "data": {
            "text/plain": [
              "array([1, 0, 2, 1, 1, 0, 1, 2, 1, 1, 2, 0, 0, 0, 0, 1, 2, 1, 1, 2, 0, 2,\n",
              "       0, 2, 2, 2, 2, 2, 0, 0, 0, 0, 1, 0, 0, 2, 1, 0, 0, 0, 2, 1, 1, 0,\n",
              "       0])"
            ]
          },
          "metadata": {},
          "execution_count": 22
        }
      ]
    },
    {
      "cell_type": "code",
      "metadata": {
        "colab": {
          "base_uri": "https://localhost:8080/"
        },
        "id": "v39TPqz6KzY7",
        "outputId": "778d877e-cf95-4e0c-e41c-9b91761154c0"
      },
      "source": [
        "from sklearn.metrics import confusion_matrix, classification_report, accuracy_score\n",
        "\n",
        "print(confusion_matrix(y_test.argmax(axis = 1), predictions))"
      ],
      "execution_count": 23,
      "outputs": [
        {
          "output_type": "stream",
          "name": "stdout",
          "text": [
            "[[19  0  0]\n",
            " [ 0 11  2]\n",
            " [ 0  0 13]]\n"
          ]
        }
      ]
    },
    {
      "cell_type": "code",
      "metadata": {
        "colab": {
          "base_uri": "https://localhost:8080/"
        },
        "id": "2pYy_GzKLB4J",
        "outputId": "6141db58-b0d2-4412-e7a1-bb362d013719"
      },
      "source": [
        "print(classification_report(y_test.argmax(axis = 1), predictions))"
      ],
      "execution_count": 24,
      "outputs": [
        {
          "output_type": "stream",
          "name": "stdout",
          "text": [
            "              precision    recall  f1-score   support\n",
            "\n",
            "           0       1.00      1.00      1.00        19\n",
            "           1       1.00      0.85      0.92        13\n",
            "           2       0.87      1.00      0.93        13\n",
            "\n",
            "    accuracy                           0.96        45\n",
            "   macro avg       0.96      0.95      0.95        45\n",
            "weighted avg       0.96      0.96      0.96        45\n",
            "\n"
          ]
        }
      ]
    },
    {
      "cell_type": "code",
      "metadata": {
        "colab": {
          "base_uri": "https://localhost:8080/"
        },
        "id": "epwAJQKVLGtr",
        "outputId": "8ffaa788-9f6c-4d61-fc34-ecf726c0f1f3"
      },
      "source": [
        "print(accuracy_score(y_test.argmax(axis = 1), predictions))"
      ],
      "execution_count": 25,
      "outputs": [
        {
          "output_type": "stream",
          "name": "stdout",
          "text": [
            "0.9555555555555556\n"
          ]
        }
      ]
    },
    {
      "cell_type": "code",
      "metadata": {
        "id": "n5EjahZQLPy-"
      },
      "source": [
        "# Saving the weights of the model\n",
        "model.save('iris_classification_keras.h5')"
      ],
      "execution_count": 26,
      "outputs": []
    },
    {
      "cell_type": "code",
      "metadata": {
        "colab": {
          "base_uri": "https://localhost:8080/"
        },
        "id": "fOoLexuaLrW2",
        "outputId": "a6729816-43f2-42d2-985c-1b96723c63d5"
      },
      "source": [
        "from keras.models import load_model\n",
        "\n",
        "new_model = load_model('iris_classification_keras.h5')\n",
        "new_model.predict(scaled_X_test)[:15]"
      ],
      "execution_count": 27,
      "outputs": [
        {
          "output_type": "execute_result",
          "data": {
            "text/plain": [
              "array([[2.6692435e-02, 6.1059690e-01, 3.6271062e-01],\n",
              "       [9.3915576e-01, 5.8998633e-02, 1.8455421e-03],\n",
              "       [5.2340041e-05, 1.1149048e-01, 8.8845712e-01],\n",
              "       [1.7565824e-02, 5.6660467e-01, 4.1582951e-01],\n",
              "       [6.7765559e-03, 4.8337361e-01, 5.0984985e-01],\n",
              "       [9.1215879e-01, 8.4180512e-02, 3.6607974e-03],\n",
              "       [8.7733522e-02, 6.7828357e-01, 2.3398286e-01],\n",
              "       [4.6020307e-04, 2.2457099e-01, 7.7496880e-01],\n",
              "       [3.9144345e-03, 3.3623967e-01, 6.5984595e-01],\n",
              "       [5.5058163e-02, 6.5807569e-01, 2.8686613e-01],\n",
              "       [2.4138426e-03, 3.7445489e-01, 6.2313128e-01],\n",
              "       [9.2766535e-01, 6.8696044e-02, 3.6386077e-03],\n",
              "       [9.4310802e-01, 5.4964080e-02, 1.9278615e-03],\n",
              "       [9.3266219e-01, 6.4181216e-02, 3.1565458e-03],\n",
              "       [9.5720917e-01, 4.1494835e-02, 1.2959557e-03]], dtype=float32)"
            ]
          },
          "metadata": {},
          "execution_count": 27
        }
      ]
    }
  ]
}